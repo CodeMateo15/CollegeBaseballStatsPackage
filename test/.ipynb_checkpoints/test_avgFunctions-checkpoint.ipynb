{
 "cells": [
  {
   "cell_type": "code",
   "execution_count": 8,
   "id": "1933a67e-b184-4810-83bf-f41c8b48997e",
   "metadata": {},
   "outputs": [
    {
     "name": "stdout",
     "output_type": "stream",
     "text": [
      "Print all statistical averages:\n",
      "\n",
      "{'W': 27.512, 'L': 27.29, 'T': 0.088, 'WPCT': 0.493, 'G': 54.889, 'BB (Batting)': 223.37, 'AB': 1852.529, 'H': 499.785, 'BA': 0.268, 'DP': 40.774, 'DPPG': 0.741, '2B': 91.593, '2BPG': 1.659, 'IP': 479.607, 'R (Pitching)': 307.788, 'ER': 260.013, 'ERA': 4.952, 'PO': 1439.451, 'A': 523.384, 'E': 64.468, 'FPCT': 0.968, 'HB': 56.872, 'HBP': 57.094, 'HA': 498.556, 'HAPG': 9.427, 'HR': 38.69, 'HRPG': 0.691, 'SF': 21.875, 'SH': 28.906, 'OBP': 0.36, 'SB': 55.65, 'CS': 20.562, 'R (Batting)': 309.603, 'RPG': 5.588, 'SHO': 3.375, 'TB': 731.219, 'SLG': 0.391, 'SBPG': 1.013, 'SO': 420.215, 'BB (Pitching)': 222.63, 'K/BB': 1.939, 'K/9': 7.827, 'TP': 1.0, '3B': 11.886, '3BPG': 0.216, 'WHIP': 1.516, 'BBPG (Pitching)': 4.217}\n",
      "Specific stat as float:\n",
      "\n",
      "38.69\n",
      "Specific stat as formatted string:\n",
      "\n",
      "Avg HR for Division 1 in 2018: 38.690\n"
     ]
    }
   ],
   "source": [
    "from ncaa_bbStats import *\n",
    "\n",
    "# Print all statistical averages\n",
    "averages = average_all_team_stats(2018, 1)\n",
    "print(\"Print all statistical averages:\\n\")\n",
    "print(averages)\n",
    "\n",
    "# Specific stat as float\n",
    "avg_hr = average_team_stat_float(\"HR\", 2018, 1)\n",
    "print(\"Specific stat as float:\\n\")\n",
    "print(avg_hr)  # ex. 34.12\n",
    "\n",
    "# Specific stat as formatted string\n",
    "print(\"Specific stat as formatted string:\\n\")\n",
    "print(average_team_stat_str(\"HR\", 2018, 1))\n",
    "# ex: Avg HR for Division 1 in 2018: 34.12"
   ]
  },
  {
   "cell_type": "code",
   "execution_count": null,
   "id": "ba0ea562-4a34-44d9-a7e4-5758432f2379",
   "metadata": {},
   "outputs": [],
   "source": []
  }
 ],
 "metadata": {
  "kernelspec": {
   "display_name": "Python 3 (ipykernel)",
   "language": "python",
   "name": "python3"
  },
  "language_info": {
   "codemirror_mode": {
    "name": "ipython",
    "version": 3
   },
   "file_extension": ".py",
   "mimetype": "text/x-python",
   "name": "python",
   "nbconvert_exporter": "python",
   "pygments_lexer": "ipython3",
   "version": "3.12.7"
  }
 },
 "nbformat": 4,
 "nbformat_minor": 5
}
