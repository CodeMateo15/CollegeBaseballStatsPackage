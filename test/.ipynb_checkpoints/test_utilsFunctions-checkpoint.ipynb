{
 "cells": [
  {
   "cell_type": "code",
   "execution_count": 1,
   "id": "b49b0a04-96c4-47fa-b237-7215fc02a0f6",
   "metadata": {},
   "outputs": [
    {
     "name": "stdout",
     "output_type": "stream",
     "text": [
      "Northeastern (CAA) - HR: 39\n"
     ]
    }
   ],
   "source": [
    "from ncaa_bbStats import *\n",
    "\n",
    "display_specific_team_stat(\n",
    "    stat_name=\"HR\", \n",
    "    search_team=\"Northeastern\", \n",
    "    year=2018, \n",
    "    division=1\n",
    ")"
   ]
  },
  {
   "cell_type": "code",
   "execution_count": 3,
   "id": "6dd46c97-5424-40ba-a801-6e54592085c6",
   "metadata": {},
   "outputs": [
    {
     "data": {
      "text/plain": [
       "39"
      ]
     },
     "execution_count": 3,
     "metadata": {},
     "output_type": "execute_result"
    }
   ],
   "source": [
    "from ncaa_bbStats import *\n",
    "\n",
    "get_team_stat(\n",
    "    stat_name=\"HR\", \n",
    "    team_name=\"Northeastern\", \n",
    "    year=2018, \n",
    "    division=1\n",
    ")"
   ]
  },
  {
   "cell_type": "code",
   "execution_count": 5,
   "id": "dbcabe43-84f2-44c8-97a9-7981dbea4f1f",
   "metadata": {},
   "outputs": [
    {
     "name": "stdout",
     "output_type": "stream",
     "text": [
      "\n",
      "Stats for Northeastern (CAA):\n",
      "  team: Northeastern\n",
      "  league: CAA\n",
      "  W: 36\n",
      "  L: 21\n",
      "  T: 0\n",
      "  WPCT: 0.632\n",
      "  G: 57\n",
      "  BB (Batting): 222\n",
      "  AB: 1992\n",
      "  H: 544\n",
      "  BA: 0.273\n",
      "  DP: 42\n",
      "  DPPG: 0.74\n",
      "  2B: 87\n",
      "  2BPG: 1.53\n",
      "  IP: 510.0\n",
      "  R (Pitching): 308\n",
      "  ER: 277\n",
      "  ERA: 4.89\n",
      "  PO: 1530\n",
      "  A: 538\n",
      "  E: 58\n",
      "  FPCT: 0.973\n",
      "  HB: 49\n",
      "  HBP: 57\n",
      "  HA: 490\n",
      "  HAPG: 8.65\n",
      "  HR: 39\n",
      "  HRPG: 0.68\n",
      "  SF: 21\n",
      "  SH: 21\n",
      "  OBP: 0.359\n",
      "  SB: 95\n",
      "  CS: 28\n",
      "  R (Batting): 341\n",
      "  RPG: 6.0\n",
      "  SHO: 4\n",
      "  TB: 794\n",
      "  SLG: 0.399\n",
      "  SBPG: 1.67\n",
      "  SO: 436\n",
      "  BB (Pitching): 271\n",
      "  K/BB: 1.61\n",
      "  K/9: 7.7\n",
      "  3B: 23\n",
      "  3BPG: 0.4\n",
      "  WHIP: 1.49\n",
      "  BBPG (Pitching): 4.78\n"
     ]
    }
   ],
   "source": [
    "from ncaa_bbStats import *\n",
    "\n",
    "display_team_stats(\n",
    "    search_team=\"Northeastern\", \n",
    "    year=2018, \n",
    "    division=1\n",
    ")"
   ]
  },
  {
   "cell_type": "code",
   "execution_count": 7,
   "id": "049c2433-32a4-4f2a-9005-bfff065444d6",
   "metadata": {},
   "outputs": [
    {
     "name": "stdout",
     "output_type": "stream",
     "text": [
      "Pythagenpat Expected Win% for Northeastern (2018, Div 1): 0.546 | Actual Win%: 0.632\n"
     ]
    }
   ],
   "source": [
    "# Pythagenpat expected win percentage\n",
    "print(get_pythagenpat_expectation(\"Northeastern\", 2018, 1))"
   ]
  },
  {
   "cell_type": "code",
   "execution_count": 9,
   "id": "80fc43ba-125b-4be3-be4a-d6d71d52d64f",
   "metadata": {},
   "outputs": [
    {
     "name": "stdout",
     "output_type": "stream",
     "text": [
      "Print all statistical averages:\n",
      "{'W': 27.512, 'L': 27.29, 'T': 0.088, 'WPCT': 0.493, 'G': 54.889, 'BB (Batting)': 223.37, 'AB': 1852.529, 'H': 499.785, 'BA': 0.268, 'DP': 40.774, 'DPPG': 0.741, '2B': 91.593, '2BPG': 1.659, 'IP': 479.607, 'R (Pitching)': 307.788, 'ER': 260.013, 'ERA': 4.952, 'PO': 1439.451, 'A': 523.384, 'E': 64.468, 'FPCT': 0.968, 'HB': 56.872, 'HBP': 57.094, 'HA': 498.556, 'HAPG': 9.427, 'HR': 38.69, 'HRPG': 0.691, 'SF': 21.875, 'SH': 28.906, 'OBP': 0.36, 'SB': 55.65, 'CS': 20.562, 'R (Batting)': 309.603, 'RPG': 5.588, 'SHO': 3.375, 'TB': 731.219, 'SLG': 0.391, 'SBPG': 1.013, 'SO': 420.215, 'BB (Pitching)': 222.63, 'K/BB': 1.939, 'K/9': 7.827, 'TP': 1.0, '3B': 11.886, '3BPG': 0.216, 'WHIP': 1.516, 'BBPG (Pitching)': 4.217}\n",
      "\n",
      "Specific stat as float:\n",
      "38.69\n",
      "\n",
      "Specific stat as formatted string:\n",
      "Avg HR for Division 1 in 2018: 38.690\n"
     ]
    }
   ],
   "source": [
    "from ncaa_bbStats import *\n",
    "\n",
    "# Print all statistical averages\n",
    "averages = average_all_team_stats(2018, 1)\n",
    "print(\"Print all statistical averages:\")\n",
    "print(averages)\n",
    "\n",
    "# Specific stat as float\n",
    "avg_hr = average_team_stat_float(\"HR\", 2018, 1)\n",
    "print(\"\\nSpecific stat as float:\")\n",
    "print(avg_hr)  # ex. 38.69\n",
    "\n",
    "# Specific stat as formatted string\n",
    "print(\"\\nSpecific stat as formatted string:\")\n",
    "print(average_team_stat_str(\"HR\", 2018, 1))\n",
    "# ex: Avg HR for Division 1 in 2018: 38.690"
   ]
  },
  {
   "cell_type": "code",
   "execution_count": 15,
   "id": "ef1fb91b-4593-4e9d-a83e-7e7924a2c85e",
   "metadata": {},
   "outputs": [
    {
     "name": "stdout",
     "output_type": "stream",
     "text": [
      "Parsed 615 draft picks for 2025.\n",
      "{'Round': '1', 'Pick': '1', 'Phase': 'JR', 'Player Name': 'Eli Willits', 'Drafted By': 'Washington Nationals', 'POS': 'SS', 'Drafted From': 'Fort Cobb-Broxton High School (Fort Cobb, OK)', 'Year': 2025}\n",
      "{'Round': '1', 'Pick': '2', 'Phase': 'JR', 'Player Name': 'Tyler Bremner', 'Drafted By': 'Los Angeles Angels', 'POS': 'RHP', 'Drafted From': 'UC Santa Barbara', 'Year': 2025}\n",
      "{'Round': '1', 'Pick': '3', 'Phase': 'JR', 'Player Name': 'Kade Anderson', 'Drafted By': 'Seattle Mariners', 'POS': 'LHP', 'Drafted From': 'Louisiana State University', 'Year': 2025}\n",
      "{'Round': '1', 'Pick': '4', 'Phase': 'JR', 'Player Name': 'Ethan Holliday', 'Drafted By': 'Colorado Rockies', 'POS': 'SS', 'Drafted From': 'Stillwater High School (Stillwater, OK)', 'Year': 2025}\n",
      "{'Round': '1', 'Pick': '5', 'Phase': 'JR', 'Player Name': 'Liam Doyle', 'Drafted By': 'St. Louis Cardinals', 'POS': 'LHP', 'Drafted From': 'University of Tennessee', 'Year': 2025}\n"
     ]
    }
   ],
   "source": [
    "draft_2025 = parse_mlb_draft(2025)\n",
    "\n",
    "# Print the top 5 picks\n",
    "for pick in draft_2025[:5]:\n",
    "    print(pick)"
   ]
  },
  {
   "cell_type": "code",
   "execution_count": null,
   "id": "006d72b6-9cb7-44da-a5b2-a7dfa4abdd86",
   "metadata": {},
   "outputs": [],
   "source": []
  }
 ],
 "metadata": {
  "kernelspec": {
   "display_name": "Python 3 (ipykernel)",
   "language": "python",
   "name": "python3"
  },
  "language_info": {
   "codemirror_mode": {
    "name": "ipython",
    "version": 3
   },
   "file_extension": ".py",
   "mimetype": "text/x-python",
   "name": "python",
   "nbconvert_exporter": "python",
   "pygments_lexer": "ipython3",
   "version": "3.12.7"
  }
 },
 "nbformat": 4,
 "nbformat_minor": 5
}
