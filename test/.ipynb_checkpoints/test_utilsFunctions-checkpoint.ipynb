{
 "cells": [
  {
   "cell_type": "code",
   "execution_count": 1,
   "id": "b49b0a04-96c4-47fa-b237-7215fc02a0f6",
   "metadata": {},
   "outputs": [
    {
     "name": "stdout",
     "output_type": "stream",
     "text": [
      "Northeastern (CAA) - HR: 39\n"
     ]
    }
   ],
   "source": [
    "from ncaa_bbStats import *\n",
    "\n",
    "display_specific_team_stat(\n",
    "    stat_name=\"HR\", \n",
    "    search_team=\"Northeastern\", \n",
    "    year=2018, \n",
    "    division=1\n",
    ")"
   ]
  },
  {
   "cell_type": "code",
   "execution_count": 5,
   "id": "6dd46c97-5424-40ba-a801-6e54592085c6",
   "metadata": {},
   "outputs": [
    {
     "data": {
      "text/plain": [
       "39"
      ]
     },
     "execution_count": 5,
     "metadata": {},
     "output_type": "execute_result"
    }
   ],
   "source": [
    "from ncaa_bbStats import *\n",
    "\n",
    "get_team_stat(\n",
    "    stat_name=\"HR\", \n",
    "    team_name=\"Northeastern\", \n",
    "    year=2018, \n",
    "    division=1\n",
    ")"
   ]
  },
  {
   "cell_type": "code",
   "execution_count": 7,
   "id": "dbcabe43-84f2-44c8-97a9-7981dbea4f1f",
   "metadata": {},
   "outputs": [
    {
     "name": "stdout",
     "output_type": "stream",
     "text": [
      "\n",
      "Stats for Northeastern (CAA):\n",
      "  team: Northeastern\n",
      "  league: CAA\n",
      "  W: 36\n",
      "  L: 21\n",
      "  T: 0\n",
      "  WPCT: 0.632\n",
      "  G: 57\n",
      "  BB (Batting): 222\n",
      "  AB: 1992\n",
      "  H: 544\n",
      "  BA: 0.273\n",
      "  DP: 42\n",
      "  DPPG: 0.74\n",
      "  2B: 87\n",
      "  2BPG: 1.53\n",
      "  IP: 510.0\n",
      "  R (Pitching): 308\n",
      "  ER: 277\n",
      "  ERA: 4.89\n",
      "  PO: 1530\n",
      "  A: 538\n",
      "  E: 58\n",
      "  FPCT: 0.973\n",
      "  HB: 49\n",
      "  HBP: 57\n",
      "  HA: 490\n",
      "  HAPG: 8.65\n",
      "  HR: 39\n",
      "  HRPG: 0.68\n",
      "  SF: 21\n",
      "  SH: 21\n",
      "  OBP: 0.359\n",
      "  SB: 95\n",
      "  CS: 28\n",
      "  R (Batting): 341\n",
      "  RPG: 6.0\n",
      "  SHO: 4\n",
      "  TB: 794\n",
      "  SLG: 0.399\n",
      "  SBPG: 1.67\n",
      "  SO: 436\n",
      "  BB (Pitching): 271\n",
      "  K/BB: 1.61\n",
      "  K/9: 7.7\n",
      "  3B: 23\n",
      "  3BPG: 0.4\n",
      "  WHIP: 1.49\n",
      "  BBPG (Pitching): 4.78\n"
     ]
    }
   ],
   "source": [
    "from ncaa_bbStats import *\n",
    "\n",
    "display_team_stats(\n",
    "    search_team=\"Northeastern\", \n",
    "    year=2018, \n",
    "    division=1\n",
    ")"
   ]
  },
  {
   "cell_type": "code",
   "execution_count": null,
   "id": "af52ec91-aa58-437a-8f37-8fd65e8e06db",
   "metadata": {},
   "outputs": [],
   "source": []
  }
 ],
 "metadata": {
  "kernelspec": {
   "display_name": "Python 3 (ipykernel)",
   "language": "python",
   "name": "python3"
  },
  "language_info": {
   "codemirror_mode": {
    "name": "ipython",
    "version": 3
   },
   "file_extension": ".py",
   "mimetype": "text/x-python",
   "name": "python",
   "nbconvert_exporter": "python",
   "pygments_lexer": "ipython3",
   "version": "3.12.7"
  }
 },
 "nbformat": 4,
 "nbformat_minor": 5
}
