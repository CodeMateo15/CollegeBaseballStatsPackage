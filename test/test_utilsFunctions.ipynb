{
 "cells": [
  {
   "cell_type": "code",
   "execution_count": 1,
   "id": "b49b0a04-96c4-47fa-b237-7215fc02a0f6",
   "metadata": {},
   "outputs": [
    {
     "ename": "ModuleNotFoundError",
     "evalue": "No module named 'src'",
     "output_type": "error",
     "traceback": [
      "\u001b[0;31m---------------------------------------------------------------------------\u001b[0m",
      "\u001b[0;31mModuleNotFoundError\u001b[0m                       Traceback (most recent call last)",
      "Cell \u001b[0;32mIn[1], line 1\u001b[0m\n\u001b[0;32m----> 1\u001b[0m \u001b[38;5;28;01mfrom\u001b[39;00m \u001b[38;5;21;01mncaa_bbStats\u001b[39;00m \u001b[38;5;28;01mimport\u001b[39;00m \u001b[38;5;241m*\u001b[39m\n\u001b[1;32m      3\u001b[0m display_specific_team_stat(\n\u001b[1;32m      4\u001b[0m     stat_name\u001b[38;5;241m=\u001b[39m\u001b[38;5;124m\"\u001b[39m\u001b[38;5;124mHR\u001b[39m\u001b[38;5;124m\"\u001b[39m, \n\u001b[1;32m      5\u001b[0m     search_team\u001b[38;5;241m=\u001b[39m\u001b[38;5;124m\"\u001b[39m\u001b[38;5;124mNortheastern\u001b[39m\u001b[38;5;124m\"\u001b[39m, \n\u001b[1;32m      6\u001b[0m     year\u001b[38;5;241m=\u001b[39m\u001b[38;5;241m2018\u001b[39m, \n\u001b[1;32m      7\u001b[0m     division\u001b[38;5;241m=\u001b[39m\u001b[38;5;241m1\u001b[39m\n\u001b[1;32m      8\u001b[0m )\n",
      "File \u001b[0;32m~/CollegeBaseballStatsPackage/src/ncaa_bbStats/__init__.py:1\u001b[0m\n\u001b[0;32m----> 1\u001b[0m \u001b[38;5;28;01mfrom\u001b[39;00m \u001b[38;5;21;01msrc\u001b[39;00m\u001b[38;5;21;01m.\u001b[39;00m\u001b[38;5;21;01mncaa_bbStats\u001b[39;00m\u001b[38;5;21;01m.\u001b[39;00m\u001b[38;5;21;01mutils\u001b[39;00m \u001b[38;5;28;01mimport\u001b[39;00m (get_team_stat, display_specific_team_stat, display_team_stats,\n\u001b[1;32m      2\u001b[0m                                     get_pythagenpat_expectation, get_drafted_players_mlb,\n\u001b[1;32m      3\u001b[0m                                     get_drafted_players_all_years_mlb, get_drafted_players_college,\n\u001b[1;32m      4\u001b[0m                                     get_drafted_players_all_years_college, print_draft_picks_mlb,\n\u001b[1;32m      5\u001b[0m                                     print_draft_picks_college, plot_team_stat_over_years)\n\u001b[1;32m      7\u001b[0m \u001b[38;5;28;01mfrom\u001b[39;00m \u001b[38;5;21;01msrc\u001b[39;00m\u001b[38;5;21;01m.\u001b[39;00m\u001b[38;5;21;01mncaa_bbStats\u001b[39;00m\u001b[38;5;21;01m.\u001b[39;00m\u001b[38;5;21;01maverage\u001b[39;00m \u001b[38;5;28;01mimport\u001b[39;00m average_all_team_stats, average_team_stat_str, average_team_stat_float\n\u001b[1;32m      9\u001b[0m \u001b[38;5;28;01mfrom\u001b[39;00m \u001b[38;5;21;01msrc\u001b[39;00m\u001b[38;5;21;01m.\u001b[39;00m\u001b[38;5;21;01mncaa_bbStats\u001b[39;00m\u001b[38;5;21;01m.\u001b[39;00m\u001b[38;5;21;01mdraft_stats\u001b[39;00m \u001b[38;5;28;01mimport\u001b[39;00m parse_mlb_draft\n",
      "\u001b[0;31mModuleNotFoundError\u001b[0m: No module named 'src'"
     ]
    }
   ],
   "source": [
    "from ncaa_bbStats import *\n",
    "\n",
    "display_specific_team_stat(\n",
    "    stat_name=\"HR\", \n",
    "    search_team=\"Northeastern\", \n",
    "    year=2018, \n",
    "    division=1\n",
    ")"
   ]
  },
  {
   "cell_type": "code",
   "execution_count": null,
   "id": "6dd46c97-5424-40ba-a801-6e54592085c6",
   "metadata": {},
   "outputs": [],
   "source": [
    "from ncaa_bbStats import *\n",
    "\n",
    "get_team_stat(\n",
    "    stat_name=\"HR\", \n",
    "    team_name=\"Northeastern\", \n",
    "    year=2018, \n",
    "    division=1\n",
    ")"
   ]
  },
  {
   "cell_type": "code",
   "execution_count": null,
   "id": "dbcabe43-84f2-44c8-97a9-7981dbea4f1f",
   "metadata": {},
   "outputs": [],
   "source": [
    "from ncaa_bbStats import *\n",
    "\n",
    "display_team_stats(\n",
    "    search_team=\"Northeastern\", \n",
    "    year=2018, \n",
    "    division=1\n",
    ")"
   ]
  },
  {
   "cell_type": "code",
   "execution_count": null,
   "id": "049c2433-32a4-4f2a-9005-bfff065444d6",
   "metadata": {},
   "outputs": [],
   "source": [
    "# Pythagenpat expected win percentage\n",
    "print(get_pythagenpat_expectation(\"Northeastern\", 2018, 1))"
   ]
  },
  {
   "cell_type": "code",
   "execution_count": null,
   "id": "80fc43ba-125b-4be3-be4a-d6d71d52d64f",
   "metadata": {},
   "outputs": [],
   "source": [
    "from ncaa_bbStats import *\n",
    "\n",
    "# Print all statistical averages\n",
    "averages = average_all_team_stats(2018, 1)\n",
    "print(\"Print all statistical averages:\")\n",
    "print(averages)\n",
    "\n",
    "# Specific stat as float\n",
    "avg_hr = average_team_stat_float(\"HR\", 2018, 1)\n",
    "print(\"\\nSpecific stat as float:\")\n",
    "print(avg_hr)  # ex. 38.69\n",
    "\n",
    "# Specific stat as formatted string\n",
    "print(\"\\nSpecific stat as formatted string:\")\n",
    "print(average_team_stat_str(\"HR\", 2018, 1))\n",
    "# ex: Avg HR for Division 1 in 2018: 38.690"
   ]
  },
  {
   "cell_type": "code",
   "execution_count": null,
   "id": "ef1fb91b-4593-4e9d-a83e-7e7924a2c85e",
   "metadata": {},
   "outputs": [],
   "source": [
    "draft_2025 = parse_mlb_draft(2025)\n",
    "\n",
    "# Print the top 5 picks\n",
    "for pick in draft_2025[:5]:\n",
    "    print(pick)"
   ]
  },
  {
   "cell_type": "code",
   "execution_count": null,
   "id": "006d72b6-9cb7-44da-a5b2-a7dfa4abdd86",
   "metadata": {},
   "outputs": [],
   "source": [
    "# Example: All Baltimore Orioles picks in the 2019 draft:\n",
    "orioles_2019 = get_drafted_players_mlb(\"Baltimore Orioles\", 2019)\n",
    "print_draft_picks_mlb(orioles_2019)\n",
    "\n",
    "# Example: All Yankees picks since 1965:\n",
    "yankees_all = get_drafted_players_all_years_mlb(\"Yankees\")\n",
    "print(f\"\\nTotal picks by Yankees: {len(yankees_all)}\")"
   ]
  },
  {
   "cell_type": "code",
   "execution_count": null,
   "id": "3de0c6f4-0ffc-4b11-9a66-caa3639047e3",
   "metadata": {},
   "outputs": [],
   "source": [
    "# Example: All Northeastern draftees in the 2025 draft:\n",
    "northeastern_2025 = get_drafted_players_college(\"Northeastern University\", 2025)\n",
    "print_draft_picks_college(northeastern_2025)\n",
    "\n",
    "# Example: All Northeastern draftees since 1965:\n",
    "northeastern_all = get_drafted_players_all_years_college(\"Northeastern University\")\n",
    "print(f\"\\nTotal picks from Northeastern: {len(northeastern_all)}\")"
   ]
  },
  {
   "cell_type": "code",
   "execution_count": null,
   "id": "8723b927-60c3-4326-8c90-11bfe9f33e65",
   "metadata": {},
   "outputs": [],
   "source": [
    "plot_team_stat_over_years(\"WPCT\", \"Tennessee\", 1, 2010, 2025)"
   ]
  },
  {
   "cell_type": "code",
   "execution_count": null,
   "id": "e622038b-c2f4-41de-8dd3-88e06c28c077",
   "metadata": {},
   "outputs": [],
   "source": []
  }
 ],
 "metadata": {
  "kernelspec": {
   "display_name": "Python 3 (ipykernel)",
   "language": "python",
   "name": "python3"
  },
  "language_info": {
   "codemirror_mode": {
    "name": "ipython",
    "version": 3
   },
   "file_extension": ".py",
   "mimetype": "text/x-python",
   "name": "python",
   "nbconvert_exporter": "python",
   "pygments_lexer": "ipython3",
   "version": "3.12.7"
  }
 },
 "nbformat": 4,
 "nbformat_minor": 5
}
