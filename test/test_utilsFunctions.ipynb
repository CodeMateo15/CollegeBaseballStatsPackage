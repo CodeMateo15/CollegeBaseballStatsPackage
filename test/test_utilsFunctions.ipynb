{
 "cells": [
  {
   "cell_type": "code",
   "execution_count": 1,
   "id": "b49b0a04-96c4-47fa-b237-7215fc02a0f6",
   "metadata": {},
   "outputs": [
    {
     "name": "stdout",
     "output_type": "stream",
     "text": [
      "Northeastern (CAA) - HR: 39\n"
     ]
    }
   ],
   "source": [
    "from ncaa_bbStats import *\n",
    "\n",
    "display_specific_team_stat(\n",
    "    stat_name=\"HR\", \n",
    "    search_team=\"Northeastern\", \n",
    "    year=2018, \n",
    "    division=1\n",
    ")"
   ]
  },
  {
   "cell_type": "code",
   "execution_count": 3,
   "id": "6dd46c97-5424-40ba-a801-6e54592085c6",
   "metadata": {},
   "outputs": [
    {
     "data": {
      "text/plain": [
       "39"
      ]
     },
     "execution_count": 3,
     "metadata": {},
     "output_type": "execute_result"
    }
   ],
   "source": [
    "from ncaa_bbStats import *\n",
    "\n",
    "get_team_stat(\n",
    "    stat_name=\"HR\", \n",
    "    team_name=\"Northeastern\", \n",
    "    year=2018, \n",
    "    division=1\n",
    ")"
   ]
  },
  {
   "cell_type": "code",
   "execution_count": 5,
   "id": "dbcabe43-84f2-44c8-97a9-7981dbea4f1f",
   "metadata": {},
   "outputs": [
    {
     "name": "stdout",
     "output_type": "stream",
     "text": [
      "\n",
      "Stats for Northeastern (CAA):\n",
      "  team: Northeastern\n",
      "  league: CAA\n",
      "  W: 36\n",
      "  L: 21\n",
      "  T: 0\n",
      "  WPCT: 0.632\n",
      "  G: 57\n",
      "  BB (Batting): 222\n",
      "  AB: 1992\n",
      "  H: 544\n",
      "  BA: 0.273\n",
      "  DP: 42\n",
      "  DPPG: 0.74\n",
      "  2B: 87\n",
      "  2BPG: 1.53\n",
      "  IP: 510.0\n",
      "  R (Pitching): 308\n",
      "  ER: 277\n",
      "  ERA: 4.89\n",
      "  PO: 1530\n",
      "  A: 538\n",
      "  E: 58\n",
      "  FPCT: 0.973\n",
      "  HB: 49\n",
      "  HBP: 57\n",
      "  HA: 490\n",
      "  HAPG: 8.65\n",
      "  HR: 39\n",
      "  HRPG: 0.68\n",
      "  SF: 21\n",
      "  SH: 21\n",
      "  OBP: 0.359\n",
      "  SB: 95\n",
      "  CS: 28\n",
      "  R (Batting): 341\n",
      "  RPG: 6.0\n",
      "  SHO: 4\n",
      "  TB: 794\n",
      "  SLG: 0.399\n",
      "  SBPG: 1.67\n",
      "  SO: 436\n",
      "  BB (Pitching): 271\n",
      "  K/BB: 1.61\n",
      "  K/9: 7.7\n",
      "  3B: 23\n",
      "  3BPG: 0.4\n",
      "  WHIP: 1.49\n",
      "  BBPG (Pitching): 4.78\n"
     ]
    }
   ],
   "source": [
    "from ncaa_bbStats import *\n",
    "\n",
    "display_team_stats(\n",
    "    search_team=\"Northeastern\", \n",
    "    year=2018, \n",
    "    division=1\n",
    ")"
   ]
  },
  {
   "cell_type": "code",
   "execution_count": 7,
   "id": "049c2433-32a4-4f2a-9005-bfff065444d6",
   "metadata": {},
   "outputs": [
    {
     "name": "stdout",
     "output_type": "stream",
     "text": [
      "Pythagenpat Expected Win% for Northeastern (2018, Div 1): 0.546 | Actual Win%: 0.632\n"
     ]
    }
   ],
   "source": [
    "# Pythagenpat expected win percentage\n",
    "print(get_pythagenpat_expectation(\"Northeastern\", 2018, 1))"
   ]
  },
  {
   "cell_type": "code",
   "execution_count": 9,
   "id": "80fc43ba-125b-4be3-be4a-d6d71d52d64f",
   "metadata": {},
   "outputs": [
    {
     "name": "stdout",
     "output_type": "stream",
     "text": [
      "Print all statistical averages:\n",
      "{'W': 27.512, 'L': 27.29, 'T': 0.088, 'WPCT': 0.493, 'G': 54.889, 'BB (Batting)': 223.37, 'AB': 1852.529, 'H': 499.785, 'BA': 0.268, 'DP': 40.774, 'DPPG': 0.741, '2B': 91.593, '2BPG': 1.659, 'IP': 479.607, 'R (Pitching)': 307.788, 'ER': 260.013, 'ERA': 4.952, 'PO': 1439.451, 'A': 523.384, 'E': 64.468, 'FPCT': 0.968, 'HB': 56.872, 'HBP': 57.094, 'HA': 498.556, 'HAPG': 9.427, 'HR': 38.69, 'HRPG': 0.691, 'SF': 21.875, 'SH': 28.906, 'OBP': 0.36, 'SB': 55.65, 'CS': 20.562, 'R (Batting)': 309.603, 'RPG': 5.588, 'SHO': 3.375, 'TB': 731.219, 'SLG': 0.391, 'SBPG': 1.013, 'SO': 420.215, 'BB (Pitching)': 222.63, 'K/BB': 1.939, 'K/9': 7.827, 'TP': 1.0, '3B': 11.886, '3BPG': 0.216, 'WHIP': 1.516, 'BBPG (Pitching)': 4.217}\n",
      "\n",
      "Specific stat as float:\n",
      "38.69\n",
      "\n",
      "Specific stat as formatted string:\n",
      "Avg HR for Division 1 in 2018: 38.690\n"
     ]
    }
   ],
   "source": [
    "from ncaa_bbStats import *\n",
    "\n",
    "# Print all statistical averages\n",
    "averages = average_all_team_stats(2018, 1)\n",
    "print(\"Print all statistical averages:\")\n",
    "print(averages)\n",
    "\n",
    "# Specific stat as float\n",
    "avg_hr = average_team_stat_float(\"HR\", 2018, 1)\n",
    "print(\"\\nSpecific stat as float:\")\n",
    "print(avg_hr)  # ex. 38.69\n",
    "\n",
    "# Specific stat as formatted string\n",
    "print(\"\\nSpecific stat as formatted string:\")\n",
    "print(average_team_stat_str(\"HR\", 2018, 1))\n",
    "# ex: Avg HR for Division 1 in 2018: 38.690"
   ]
  },
  {
   "cell_type": "code",
   "execution_count": 11,
   "id": "ef1fb91b-4593-4e9d-a83e-7e7924a2c85e",
   "metadata": {},
   "outputs": [
    {
     "name": "stdout",
     "output_type": "stream",
     "text": [
      "Parsed 615 draft picks for 2025.\n",
      "{'Round': '1', 'Pick': '1', 'Phase': 'JR', 'Player Name': 'Eli Willits', 'Drafted By': 'Washington Nationals', 'POS': 'SS', 'Drafted From': 'Fort Cobb-Broxton High School (Fort Cobb, OK)', 'Year': 2025}\n",
      "{'Round': '1', 'Pick': '2', 'Phase': 'JR', 'Player Name': 'Tyler Bremner', 'Drafted By': 'Los Angeles Angels', 'POS': 'RHP', 'Drafted From': 'UC Santa Barbara', 'Year': 2025}\n",
      "{'Round': '1', 'Pick': '3', 'Phase': 'JR', 'Player Name': 'Kade Anderson', 'Drafted By': 'Seattle Mariners', 'POS': 'LHP', 'Drafted From': 'Louisiana State University', 'Year': 2025}\n",
      "{'Round': '1', 'Pick': '4', 'Phase': 'JR', 'Player Name': 'Ethan Holliday', 'Drafted By': 'Colorado Rockies', 'POS': 'SS', 'Drafted From': 'Stillwater High School (Stillwater, OK)', 'Year': 2025}\n",
      "{'Round': '1', 'Pick': '5', 'Phase': 'JR', 'Player Name': 'Liam Doyle', 'Drafted By': 'St. Louis Cardinals', 'POS': 'LHP', 'Drafted From': 'University of Tennessee', 'Year': 2025}\n"
     ]
    }
   ],
   "source": [
    "draft_2025 = parse_mlb_draft(2025)\n",
    "\n",
    "# Print the top 5 picks\n",
    "for pick in draft_2025[:5]:\n",
    "    print(pick)"
   ]
  },
  {
   "cell_type": "code",
   "execution_count": 13,
   "id": "006d72b6-9cb7-44da-a5b2-a7dfa4abdd86",
   "metadata": {},
   "outputs": [
    {
     "name": "stdout",
     "output_type": "stream",
     "text": [
      "2019 Round 1 Pick 1: Adley Rutschman - C from Oregon State\n",
      "2019 Round 2 Pick 42: Gunnar Henderson - SS from Morgan Academy (Selma, AL)\n",
      "2019 Round 2 Pick 71: Kyle Stowers - OF from Stanford University\n",
      "2019 Round 3 Pick 79: Zach Watson - OF from Louisiana State\n",
      "2019 Round 4 Pick 108: Joey Ortiz - SS from New Mexico State\n",
      "2019 Round 5 Pick 138: Darell Hernaiz - SS from Americas High School (El Paso, TX)\n",
      "2019 Round 6 Pick 168: Maverick Handley - C from Stanford University\n",
      "2019 Round 7 Pick 198: Johnny Rizer - OF from Texas Christian University\n",
      "2019 Round 8 Pick 228: Griffin McLarty - RHP from College of Charleston\n",
      "2019 Round 9 Pick 258: Connor Gillispie - RHP from VCU\n",
      "2019 Round 10 Pick 288: Jordan Cannon - C from Sam Houston State\n",
      "2019 Round 11 Pick 318: Andrew Daschbach - 1B from Stanford University\n",
      "2019 Round 12 Pick 348: Kade Strowd - RHP from West Virginia\n",
      "2019 Round 13 Pick 378: Dan Hammer - RHP from Pittsburgh\n",
      "2019 Round 14 Pick 408: Mason Janvrin - OF from Central Missouri\n",
      "2019 Round 15 Pick 438: Kyle Martin - RHP from Fordham\n",
      "2019 Round 16 Pick 468: Shelton Perkins - RHP from James Madison\n",
      "2019 Round 17 Pick 498: Morgan McSweeney - RHP from Wake Forest University\n",
      "2019 Round 18 Pick 528: Malachi Emond - RHP from New Mexico\n",
      "2019 Round 19 Pick 558: Jensen Elliott - RHP from Oklahoma State\n",
      "2019 Round 20 Pick 588: Clayton McGinness - RHP from Wichita State\n",
      "2019 Round 21 Pick 618: Toby Welk - 3B from Pennsylvania State Berks\n",
      "2019 Round 22 Pick 648: Jake Lyons - RHP from Oklahoma State\n",
      "2019 Round 23 Pick 678: Shayne Fontana - OF from Lynn (Fla.)\n",
      "2019 Round 24 Pick 708: Andrew Martinez - SS from UC Santa Barbara\n",
      "2019 Round 25 Pick 738: Garrett Farmer - RHP from Jacksonville State\n",
      "2019 Round 26 Pick 768: Nick Roth - RHP from Randolph-Macon (Va.)\n",
      "2019 Round 27 Pick 798: Dillon McCollough - LHP from Eckerd (Fla.)\n",
      "2019 Round 28 Pick 828: Jonathan Pendergast - RHP from Pepperdine\n",
      "2019 Round 29 Pick 858: Houston Roth - RHP from University of Mississippi\n",
      "2019 Round 30 Pick 888: Dalton Stambaugh - LHP from Morehead State\n",
      "2019 Round 31 Pick 918: Jake Prizina - LHP from Seattle\n",
      "2019 Round 32 Pick 948: Harris Yett - C from Charlotte\n",
      "2019 Round 33 Pick 978: Craig Lewis - OF from Seton Hill (Pa.)\n",
      "2019 Round 34 Pick 1008: Zach Arnold - SS from Great Oak High School (Temecula, CA)\n",
      "2019 Round 35 Pick 1038: Justin Miknis - C from Dubois (Pa.) Central Christian HS\n",
      "2019 Round 36 Pick 1068: Trevor Kehe - OF from Colorado School of Mines (Golden, CO)\n",
      "2019 Round 37 Pick 1098: Colby Thomas - OF from Valdosta High School (Valdosta, GA)\n",
      "2019 Round 38 Pick 1128: Ben Pedersen - RHP from Marshall (Minn.) HS\n",
      "2019 Round 39 Pick 1158: Christian Fagnant - C from East Granby (Conn.) HS\n",
      "2019 Round 40 Pick 1188: Bobby Zmarzlak - OF from Westhill High School (Stamford, CT)\n",
      "\n",
      "Total picks by Yankees: 2745\n"
     ]
    }
   ],
   "source": [
    "# Example: All Baltimore Orioles picks in the 2019 draft:\n",
    "orioles_2019 = get_drafted_players_mlb(\"Baltimore Orioles\", 2019)\n",
    "print_draft_picks_mlb(orioles_2019)\n",
    "\n",
    "# Example: All Yankees picks since 1965:\n",
    "yankees_all = get_drafted_players_all_years_mlb(\"Yankees\")\n",
    "print(f\"\\nTotal picks by Yankees: {len(yankees_all)}\")"
   ]
  },
  {
   "cell_type": "code",
   "execution_count": 15,
   "id": "3de0c6f4-0ffc-4b11-9a66-caa3639047e3",
   "metadata": {},
   "outputs": [
    {
     "name": "stdout",
     "output_type": "stream",
     "text": [
      "2025 Round 6 Pick 176: Jordan Gottesman - LHP for San Francisco Giants\n",
      "2025 Round 7 Pick 206: Cameron Maldonado - OF for San Francisco Giants\n",
      "2025 Round 13 Pick 399: Jack Goodman - SS for Detroit Tigers\n",
      "2025 Round 18 Pick 536: Cooper McGrath - RHP for San Francisco Giants\n",
      "2025 Round 18 Pick 547: Aiven Cabral - RHP for Atlanta Braves\n",
      "\n",
      "Total picks from Northeastern: 54\n"
     ]
    }
   ],
   "source": [
    "# Example: All Northeastern draftees in the 2025 draft:\n",
    "northeastern_2025 = get_drafted_players_college(\"Northeastern University\", 2025)\n",
    "print_draft_picks_college(northeastern_2025)\n",
    "\n",
    "# Example: All Northeastern draftees since 1965:\n",
    "northeastern_all = get_drafted_players_all_years_college(\"Northeastern University\")\n",
    "print(f\"\\nTotal picks from Northeastern: {len(northeastern_all)}\")"
   ]
  },
  {
   "cell_type": "code",
   "execution_count": 23,
   "id": "8723b927-60c3-4326-8c90-11bfe9f33e65",
   "metadata": {},
   "outputs": [
    {
     "data": {
      "image/png": "[encoded data removed]",
      "text/plain": [
       "<Figure size 640x480 with 1 Axes>"
      ]
     },
     "metadata": {},
     "output_type": "display_data"
    }
   ],
   "source": [
    "plot_team_stat_over_years(\"WPCT\", \"Tennessee\", 1, 2010, 2025)"
   ]
  },
  {
   "cell_type": "code",
   "execution_count": null,
   "id": "e622038b-c2f4-41de-8dd3-88e06c28c077",
   "metadata": {},
   "outputs": [],
   "source": []
  }
 ],
 "metadata": {
  "kernelspec": {
   "display_name": "Python 3 (ipykernel)",
   "language": "python",
   "name": "python3"
  },
  "language_info": {
   "codemirror_mode": {
    "name": "ipython",
    "version": 3
   },
   "file_extension": ".py",
   "mimetype": "text/x-python",
   "name": "python",
   "nbconvert_exporter": "python",
   "pygments_lexer": "ipython3",
   "version": "3.12.7"
  }
 },
 "nbformat": 4,
 "nbformat_minor": 5
}
