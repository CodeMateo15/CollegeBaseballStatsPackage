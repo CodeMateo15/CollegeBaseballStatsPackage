{
 "cells": [
  {
   "cell_type": "code",
   "execution_count": 1,
   "id": "1933a67e-b184-4810-83bf-f41c8b48997e",
   "metadata": {},
   "outputs": [
    {
     "ename": "ModuleNotFoundError",
     "evalue": "No module named 'src'",
     "output_type": "error",
     "traceback": [
      "\u001b[0;31m---------------------------------------------------------------------------\u001b[0m",
      "\u001b[0;31mModuleNotFoundError\u001b[0m                       Traceback (most recent call last)",
      "Cell \u001b[0;32mIn[1], line 1\u001b[0m\n\u001b[0;32m----> 1\u001b[0m \u001b[38;5;28;01mfrom\u001b[39;00m \u001b[38;5;21;01mncaa_bbStats\u001b[39;00m \u001b[38;5;28;01mimport\u001b[39;00m \u001b[38;5;241m*\u001b[39m\n\u001b[1;32m      3\u001b[0m \u001b[38;5;66;03m# Print all statistical averages\u001b[39;00m\n\u001b[1;32m      4\u001b[0m averages \u001b[38;5;241m=\u001b[39m average_all_team_stats(\u001b[38;5;241m2018\u001b[39m, \u001b[38;5;241m1\u001b[39m)\n",
      "File \u001b[0;32m~/CollegeBaseballStatsPackage/src/ncaa_bbStats/__init__.py:1\u001b[0m\n\u001b[0;32m----> 1\u001b[0m \u001b[38;5;28;01mfrom\u001b[39;00m \u001b[38;5;21;01msrc\u001b[39;00m\u001b[38;5;21;01m.\u001b[39;00m\u001b[38;5;21;01mncaa_bbStats\u001b[39;00m\u001b[38;5;21;01m.\u001b[39;00m\u001b[38;5;21;01mutils\u001b[39;00m \u001b[38;5;28;01mimport\u001b[39;00m get_team_stat, display_specific_team_stat, display_team_stats, get_pythagenpat_expectation\n\u001b[1;32m      3\u001b[0m \u001b[38;5;28;01mfrom\u001b[39;00m \u001b[38;5;21;01msrc\u001b[39;00m\u001b[38;5;21;01m.\u001b[39;00m\u001b[38;5;21;01mncaa_bbStats\u001b[39;00m\u001b[38;5;21;01m.\u001b[39;00m\u001b[38;5;21;01maverage\u001b[39;00m \u001b[38;5;28;01mimport\u001b[39;00m average_all_team_stats, average_team_stat_str, average_team_stat_float\n",
      "\u001b[0;31mModuleNotFoundError\u001b[0m: No module named 'src'"
     ]
    }
   ],
   "source": [
    "from ncaa_bbStats import *\n",
    "\n",
    "# Print all statistical averages\n",
    "averages = average_all_team_stats(2018, 1)\n",
    "print(\"Print all statistical averages:\\n\")\n",
    "print(averages)\n",
    "\n",
    "# Specific stat as float\n",
    "avg_hr = average_team_stat_float(\"HR\", 2018, 1)\n",
    "print(\"Specific stat as float:\\n\")\n",
    "print(avg_hr)  # ex. 34.12\n",
    "\n",
    "# Specific stat as formatted string\n",
    "print(\"Specific stat as formatted string:\\n\")\n",
    "print(average_team_stat_str(\"HR\", 2018, 1))\n",
    "# ex: Avg HR for Division 1 in 2018: 34.12"
   ]
  },
  {
   "cell_type": "code",
   "execution_count": null,
   "id": "ba0ea562-4a34-44d9-a7e4-5758432f2379",
   "metadata": {},
   "outputs": [],
   "source": []
  }
 ],
 "metadata": {
  "kernelspec": {
   "display_name": "Python 3 (ipykernel)",
   "language": "python",
   "name": "python3"
  },
  "language_info": {
   "codemirror_mode": {
    "name": "ipython",
    "version": 3
   },
   "file_extension": ".py",
   "mimetype": "text/x-python",
   "name": "python",
   "nbconvert_exporter": "python",
   "pygments_lexer": "ipython3",
   "version": "3.12.7"
  }
 },
 "nbformat": 4,
 "nbformat_minor": 5
}
