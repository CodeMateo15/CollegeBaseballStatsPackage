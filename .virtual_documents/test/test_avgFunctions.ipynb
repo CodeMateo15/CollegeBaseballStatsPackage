from ncaa_bbStats import *

# Print all statistical averages
averages = average_all_team_stats(2018, 1)
print("Print all statistical averages:\n")
print(averages)

# Specific stat as float
avg_hr = average_team_stat_float("HR", 2018, 1)
print("Specific stat as float:\n")
print(avg_hr)  # ex. 34.12

# Specific stat as formatted string
print("Specific stat as formatted string:\n")
print(average_team_stat_str("HR", 2018, 1))
# ex: Avg HR for Division 1 in 2018: 34.12



