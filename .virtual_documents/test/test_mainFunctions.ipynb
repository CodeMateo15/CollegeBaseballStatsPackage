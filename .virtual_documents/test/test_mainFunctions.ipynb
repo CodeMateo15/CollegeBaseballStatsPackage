from ncaa_bbStats import *

display_specific_team_stat(
    stat_name="HR", 
    search_team="Northeastern", 
    year=2018, 
    division=1
)


from ncaa_bbStats import *

get_team_stat(
    stat_name="HR", 
    team_name="Northeastern", 
    year=2018, 
    division=1
)


from ncaa_bbStats import *

display_team_stats(
    search_team="Northeastern", 
    year=2018, 
    division=1
)



