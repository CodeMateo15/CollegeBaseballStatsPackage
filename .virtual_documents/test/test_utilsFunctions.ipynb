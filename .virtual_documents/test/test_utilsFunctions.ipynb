from ncaa_bbStats import *

display_specific_team_stat(
    stat_name="HR", 
    search_team="Northeastern", 
    year=2018, 
    division=1
)


from ncaa_bbStats import *

get_team_stat(
    stat_name="HR", 
    team_name="Northeastern", 
    year=2018, 
    division=1
)


from ncaa_bbStats import *

display_team_stats(
    search_team="Northeastern", 
    year=2018, 
    division=1
)


# Print all statistical averages
averages = average_all_team_stats(2018, 1)
print(averages)

# Specific stat as float
avg_hr = average_team_stat_float("HR", 2018, 1)
print(avg_hr)  # e.g., 34.12

# Specific stat as formatted string
print(average_team_stat_str("HR", 2018, 1))
# Output: Avg HR for Division 1 in 2018: 34.120



