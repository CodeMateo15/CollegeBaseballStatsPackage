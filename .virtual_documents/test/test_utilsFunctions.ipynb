from ncaa_bbStats import *

display_specific_team_stat(
    stat_name="HR", 
    search_team="Northeastern", 
    year=2018, 
    division=1
)


from ncaa_bbStats import *

get_team_stat(
    stat_name="HR", 
    team_name="Northeastern", 
    year=2018, 
    division=1
)


from ncaa_bbStats import *

display_team_stats(
    search_team="Northeastern", 
    year=2018, 
    division=1
)


# Pythagenpat expected win percentage
print(get_pythagenpat_expectation("Northeastern", 2018, 1))


from ncaa_bbStats import *

# Print all statistical averages
averages = average_all_team_stats(2018, 1)
print("Print all statistical averages:")
print(averages)

# Specific stat as float
avg_hr = average_team_stat_float("HR", 2018, 1)
print("\nSpecific stat as float:")
print(avg_hr)  # ex. 38.69

# Specific stat as formatted string
print("\nSpecific stat as formatted string:")
print(average_team_stat_str("HR", 2018, 1))
# ex: Avg HR for Division 1 in 2018: 38.690


draft_2025 = parse_mlb_draft(2025)

# Print the top 5 picks
for pick in draft_2025[:5]:
    print(pick)


# Example: All Baltimore Orioles picks in the 2019 draft:
orioles_2019 = get_drafted_players_mlb("Baltimore Orioles", 2019)
print_draft_picks_mlb(orioles_2019)

# Example: All Yankees picks since 1965:
yankees_all = get_drafted_players_all_years_mlb("Yankees")
print(f"\nTotal picks by Yankees: {len(yankees_all)}")


# Example: All Northeastern draftees in the 2025 draft:
northeastern_2025 = get_drafted_players_college("Northeastern University", 2025)
print_draft_picks_college(northeastern_2025)

# Example: All Northeastern draftees since 1965:
northeastern_all = get_drafted_players_all_years_college("Northeastern University")
print(f"\nTotal picks from Northeastern: {len(northeastern_all)}")


plot_team_stat_over_years("WPCT", "Tennessee", 1, 2010, 2025)



