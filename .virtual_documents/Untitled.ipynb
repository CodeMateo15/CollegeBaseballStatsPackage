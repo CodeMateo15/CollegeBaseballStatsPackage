from ncaa_bbStats import display_team_stats

display_specific_team_stat(
    stat_name="HR", 
    search_team="Northeastern", 
    year=2018, 
    division=1
)



